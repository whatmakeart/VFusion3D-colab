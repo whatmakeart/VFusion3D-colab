{
  "nbformat": 4,
  "nbformat_minor": 0,
  "metadata": {
    "colab": {
      "provenance": [],
      "gpuType": "T4",
      "include_colab_link": true
    },
    "kernelspec": {
      "name": "python3",
      "display_name": "Python 3"
    },
    "language_info": {
      "name": "python"
    },
    "accelerator": "GPU"
  },
  "cells": [
    {
      "cell_type": "markdown",
      "metadata": {
        "id": "view-in-github",
        "colab_type": "text"
      },
      "source": [
        "<a href=\"https://colab.research.google.com/github/whatmakeart/VFusion3D-colab/blob/main/VFusion3D_Mesh_Generation_Test.ipynb\" target=\"_parent\"><img src=\"https://colab.research.google.com/assets/colab-badge.svg\" alt=\"Open In Colab\"/></a>"
      ]
    },
    {
      "cell_type": "code",
      "source": [
        "# check if using GPU\n",
        "!nvidia-smi\n",
        "# if not using GPU make sure to switch the runtime"
      ],
      "metadata": {
        "id": "8qcPOrDMVTa0"
      },
      "execution_count": null,
      "outputs": []
    },
    {
      "cell_type": "code",
      "execution_count": null,
      "metadata": {
        "id": "PSjYaoBnCARX"
      },
      "outputs": [],
      "source": [
        "# Clone the Repository\n",
        "!git clone https://github.com/facebookresearch/vfusion3d\n",
        "%cd vfusion3d"
      ]
    },
    {
      "cell_type": "code",
      "source": [
        "# Create the Environment\n",
        "\n",
        "# Set environment variables using os.environ\n",
        "import os\n",
        "\n",
        "os.environ['PYTHON_VERSION'] = '3.8.19'\n",
        "os.environ['CUDA_VERSION'] = '12.1'\n",
        "\n",
        "\n",
        "# Install the required packages using pip\n",
        "\n",
        "!pip install torch==2.3.0+cu121 torchvision==0.18.0+cu121 -f https://download.pytorch.org/whl/torch_stable.html\n",
        "!pip install transformers\n",
        "!pip install imageio[ffmpeg]\n",
        "!pip install --upgrade PyMCubes\n",
        "!pip install trimesh==4.3.2\n",
        "!pip install rembg[gpu,cli]\n",
        "!pip install kiui\n",
        "!pip install gradio==4.31.4\n",
        "!pip install gradio-litmodel3d==0.0.1\n",
        "\n",
        "# Verify installation\n",
        "import torch\n",
        "import torchvision\n",
        "import transformers\n",
        "import imageio\n",
        "try:\n",
        "    import PyMCubes\n",
        "    print(\"PyMCubes installed and imported successfully!\")\n",
        "except ImportError:\n",
        "    print(\"PyMCubes installation failed.\")\n",
        "import trimesh\n",
        "import rembg\n",
        "import kiui\n",
        "import gradio\n",
        "import gradio_litmodel3d\n",
        "\n",
        "print(\"All packages installed successfully!\")\n"
      ],
      "metadata": {
        "id": "STX4IofUCIbC"
      },
      "execution_count": null,
      "outputs": []
    },
    {
      "cell_type": "markdown",
      "source": [
        "[Google Drive Link](https://drive.google.com/file/d/1b-KKSh9VquJdzmXzZBE4nKbXnbeua42X/view) to model weights checkpoint file\n",
        "\n",
        "[Hugging Face Link](https://huggingface.co/facebook/vfusion3d/blob/main/model.safetensors) to model weights checkpoint file\n",
        "\n",
        "Place \"vfusion3dckpt\" in MyDrive"
      ],
      "metadata": {
        "id": "5TAZAH-6FSPB"
      }
    },
    {
      "cell_type": "code",
      "source": [
        "# Copy Model Weights from Drive and put it inside ./checkpoints/\n",
        "\n",
        "from google.colab import drive\n",
        "drive.mount('/content/drive')\n",
        "os.makedirs('./checkpoints', exist_ok=True)\n",
        "!cp /content/drive/MyDrive/vfusion3dckpt ./checkpoints/\n"
      ],
      "metadata": {
        "id": "ApsAKSJ3DHeT"
      },
      "execution_count": null,
      "outputs": []
    },
    {
      "cell_type": "code",
      "source": [
        "# Make a directory for source image assests and output locations\n",
        "os.makedirs('./source_images', exist_ok=True)\n",
        "os.makedirs('./outputs_mesh', exist_ok=True)\n",
        "os.makedirs('./outputs_video', exist_ok=True)"
      ],
      "metadata": {
        "id": "Q2N8ImAtHIAl"
      },
      "execution_count": null,
      "outputs": []
    },
    {
      "cell_type": "markdown",
      "source": [
        "Place images to batch process in the \"source_images\" folder"
      ],
      "metadata": {
        "id": "UdRI3_uPHYm_"
      }
    },
    {
      "cell_type": "code",
      "source": [
        "# Example usages\n",
        "\n",
        "# Render a mesh\n",
        "!python -m lrm.inferrer --export_mesh --resume ./checkpoints/vfusion3dckpt --source_path './source_images' --dump_path './outputs_mesh'\n",
        "\n"
      ],
      "metadata": {
        "id": "_tA5MFPlEKsU"
      },
      "execution_count": null,
      "outputs": []
    },
    {
      "cell_type": "code",
      "source": [
        "# Render a video\n",
        "!python -m lrm.inferrer --export_video --resume ./checkpoints/vfusion3dckpt --source_path './source_images' --dump_path './outputs_video'"
      ],
      "metadata": {
        "id": "waQTMHwjIANF"
      },
      "execution_count": null,
      "outputs": []
    },
    {
      "cell_type": "code",
      "source": [
        "# Download the results from the above cell\n",
        "\n",
        "from google.colab import files\n",
        "import os\n",
        "\n",
        "# Directories containing the output files\n",
        "output_dirs = ['./outputs_mesh', './outputs_video']\n",
        "\n",
        "# Loop through each directory and download relevant files\n",
        "for output_dir in output_dirs:\n",
        "    if os.path.exists(output_dir):\n",
        "        for filename in os.listdir(output_dir):\n",
        "            if filename.endswith('.mp4') or filename.endswith('.obj'):  # Check for .mp4 and .obj files\n",
        "                filepath = os.path.join(output_dir, filename)\n",
        "                files.download(filepath)\n",
        "    else:\n",
        "        print(f\"Directory {output_dir} does not exist.\")\n",
        "\n"
      ],
      "metadata": {
        "id": "U3Wwjm0BHmzU"
      },
      "execution_count": null,
      "outputs": []
    },
    {
      "cell_type": "code",
      "source": [
        "# Launch Gradio Visual Interface\n",
        "\n",
        "import gradio as gr\n",
        "import imageio\n",
        "import subprocess\n",
        "import os\n",
        "\n",
        "def process_image(image):\n",
        "    # Save the image temporarily\n",
        "    os.makedirs('./source_images', exist_ok=True)\n",
        "    os.makedirs('./outputs_mesh', exist_ok=True)\n",
        "\n",
        "    image_path = \"./source_images/temp.jpg\"\n",
        "    imageio.imwrite(image_path, image)\n",
        "\n",
        "    # Run the inference command using subprocess\n",
        "    command = [\n",
        "        'python', '-m', 'lrm.inferrer', '--export_mesh',\n",
        "        '--resume', './checkpoints/vfusion3dckpt',\n",
        "        '--source_path', './source_images',\n",
        "        '--dump_path', './outputs_mesh'\n",
        "    ]\n",
        "    subprocess.run(command, check=True)\n",
        "\n",
        "    # Return the path to the generated .obj file\n",
        "    obj_path = \"./outputs_mesh/temp.obj\"\n",
        "    if os.path.exists(obj_path):\n",
        "        return obj_path\n",
        "    else:\n",
        "        return None\n",
        "\n",
        "# Create the Gradio interface\n",
        "inputs = gr.Image(type=\"pil\", label=\"Input Image\")\n",
        "outputs = gr.File(label=\"Download Generated OBJ\")\n",
        "\n",
        "gr.Interface(fn=process_image, inputs=inputs, outputs=outputs, title=\"VFusion3D OBJ Generator\").launch(share=True)\n"
      ],
      "metadata": {
        "id": "ckiE7V_ISBkv"
      },
      "execution_count": null,
      "outputs": []
    }
  ]
}